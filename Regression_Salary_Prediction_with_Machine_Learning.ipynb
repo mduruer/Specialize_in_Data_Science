{
 "cells": [
  {
   "cell_type": "markdown",
   "id": "6f4f818f",
   "metadata": {},
   "source": [
    "# Maaş Tahminleme - Tecrübe Yılına Göre "
   ]
  },
  {
   "cell_type": "code",
   "execution_count": 1,
   "id": "5fec5eb7",
   "metadata": {},
   "outputs": [],
   "source": [
    "#job experience\n",
    "#salary"
   ]
  },
  {
   "cell_type": "code",
   "execution_count": 33,
   "id": "52caaf68",
   "metadata": {},
   "outputs": [],
   "source": [
    "#Kütüphanalerin Okunması\n",
    "import pandas as pd\n",
    "import numpy as np\n",
    "import plotly.express as px\n",
    "import plotly.graph_objects as go\n",
    "import warnings\n",
    "warnings.filterwarnings('ignore')\n",
    "import matplotlib.pyplot as plt\n",
    "import seaborn as sns"
   ]
  },
  {
   "cell_type": "code",
   "execution_count": 5,
   "id": "d89b1c0c",
   "metadata": {},
   "outputs": [],
   "source": [
    "##DataSet in DataFrame olarak Okunması \n",
    "df = pd.read_csv(\"Salary_Data.csv\")"
   ]
  },
  {
   "cell_type": "code",
   "execution_count": 8,
   "id": "6cddd8ca",
   "metadata": {},
   "outputs": [],
   "source": [
    "#EDA - Exp Data Analysis"
   ]
  },
  {
   "cell_type": "code",
   "execution_count": 6,
   "id": "7cccbd6b",
   "metadata": {},
   "outputs": [
    {
     "data": {
      "text/html": [
       "<div>\n",
       "<style scoped>\n",
       "    .dataframe tbody tr th:only-of-type {\n",
       "        vertical-align: middle;\n",
       "    }\n",
       "\n",
       "    .dataframe tbody tr th {\n",
       "        vertical-align: top;\n",
       "    }\n",
       "\n",
       "    .dataframe thead th {\n",
       "        text-align: right;\n",
       "    }\n",
       "</style>\n",
       "<table border=\"1\" class=\"dataframe\">\n",
       "  <thead>\n",
       "    <tr style=\"text-align: right;\">\n",
       "      <th></th>\n",
       "      <th>YearsExperience</th>\n",
       "      <th>Salary</th>\n",
       "    </tr>\n",
       "  </thead>\n",
       "  <tbody>\n",
       "    <tr>\n",
       "      <th>0</th>\n",
       "      <td>1.1</td>\n",
       "      <td>39343.0</td>\n",
       "    </tr>\n",
       "    <tr>\n",
       "      <th>1</th>\n",
       "      <td>1.3</td>\n",
       "      <td>46205.0</td>\n",
       "    </tr>\n",
       "    <tr>\n",
       "      <th>2</th>\n",
       "      <td>1.5</td>\n",
       "      <td>37731.0</td>\n",
       "    </tr>\n",
       "    <tr>\n",
       "      <th>3</th>\n",
       "      <td>2.0</td>\n",
       "      <td>43525.0</td>\n",
       "    </tr>\n",
       "    <tr>\n",
       "      <th>4</th>\n",
       "      <td>2.2</td>\n",
       "      <td>39891.0</td>\n",
       "    </tr>\n",
       "  </tbody>\n",
       "</table>\n",
       "</div>"
      ],
      "text/plain": [
       "   YearsExperience   Salary\n",
       "0              1.1  39343.0\n",
       "1              1.3  46205.0\n",
       "2              1.5  37731.0\n",
       "3              2.0  43525.0\n",
       "4              2.2  39891.0"
      ]
     },
     "execution_count": 6,
     "metadata": {},
     "output_type": "execute_result"
    }
   ],
   "source": [
    "df.head()"
   ]
  },
  {
   "cell_type": "code",
   "execution_count": 9,
   "id": "2423f6fe",
   "metadata": {},
   "outputs": [
    {
     "data": {
      "text/plain": [
       "YearsExperience    0\n",
       "Salary             0\n",
       "dtype: int64"
      ]
     },
     "execution_count": 9,
     "metadata": {},
     "output_type": "execute_result"
    }
   ],
   "source": [
    "## Boş Veriler var mı kontrolu yapıyoruz.\n",
    "df.isnull().sum() "
   ]
  },
  {
   "cell_type": "code",
   "execution_count": 11,
   "id": "45f8c8f7",
   "metadata": {
    "scrolled": false
   },
   "outputs": [
    {
     "data": {
      "application/vnd.plotly.v1+json": {
       "config": {
        "plotlyServerURL": "https://plot.ly"
       },
       "data": [
        {
         "hovertemplate": "Salary=%{x}<br>YearsExperience=%{marker.size}<extra></extra>",
         "legendgroup": "",
         "marker": {
          "color": "#636efa",
          "size": [
           1.1,
           1.3,
           1.5,
           2,
           2.2,
           2.9,
           3,
           3.2,
           3.2,
           3.7,
           3.9,
           4,
           4,
           4.1,
           4.5,
           4.9,
           5.1,
           5.3,
           5.9,
           6,
           6.8,
           7.1,
           7.9,
           8.2,
           8.7,
           9,
           9.5,
           9.6,
           10.3,
           10.5
          ],
          "sizemode": "area",
          "sizeref": 0.02625,
          "symbol": "circle"
         },
         "mode": "markers",
         "name": "",
         "orientation": "v",
         "showlegend": false,
         "type": "scatter",
         "x": [
          39343,
          46205,
          37731,
          43525,
          39891,
          56642,
          60150,
          54445,
          64445,
          57189,
          63218,
          55794,
          56957,
          57081,
          61111,
          67938,
          66029,
          83088,
          81363,
          93940,
          91738,
          98273,
          101302,
          113812,
          109431,
          105582,
          116969,
          112635,
          122391,
          121872
         ],
         "xaxis": "x",
         "y": [
          1.1,
          1.3,
          1.5,
          2,
          2.2,
          2.9,
          3,
          3.2,
          3.2,
          3.7,
          3.9,
          4,
          4,
          4.1,
          4.5,
          4.9,
          5.1,
          5.3,
          5.9,
          6,
          6.8,
          7.1,
          7.9,
          8.2,
          8.7,
          9,
          9.5,
          9.6,
          10.3,
          10.5
         ],
         "yaxis": "y"
        },
        {
         "hovertemplate": "<b>OLS trendline</b><br>YearsExperience = 0.000101266 * Salary + -2.38316<br>R<sup>2</sup>=0.956957<br><br>Salary=%{x}<br>YearsExperience=%{y} <b>(trend)</b><extra></extra>",
         "legendgroup": "",
         "marker": {
          "color": "#636efa",
          "symbol": "circle"
         },
         "mode": "lines",
         "name": "",
         "showlegend": false,
         "type": "scatter",
         "x": [
          37731,
          39343,
          39891,
          43525,
          46205,
          54445,
          55794,
          56642,
          56957,
          57081,
          57189,
          60150,
          61111,
          63218,
          64445,
          66029,
          67938,
          81363,
          83088,
          91738,
          93940,
          98273,
          101302,
          105582,
          109431,
          112635,
          113812,
          116969,
          121872,
          122391
         ],
         "xaxis": "x",
         "y": [
          1.4376940234338402,
          1.6009342661062371,
          1.6564278473621146,
          2.0244272529895904,
          2.295819219715412,
          3.1302482517380863,
          3.2668556260340322,
          3.3527289050577247,
          3.384627587713931,
          3.397184529457962,
          3.408121220654375,
          3.707968837622718,
          3.805285136138955,
          4.018651880128248,
          4.142904843998615,
          4.303309648212682,
          4.496625791675217,
          5.856117266784976,
          6.030800528949918,
          6.906748481255274,
          7.129735462871041,
          7.568519564297528,
          7.8752532460932425,
          8.308670267580748,
          8.698441789941826,
          9.022896962102099,
          9.142086643011163,
          9.461782329187812,
          9.958287856373149,
          10.01084473351147
         ],
         "yaxis": "y"
        }
       ],
       "layout": {
        "legend": {
         "itemsizing": "constant",
         "tracegroupgap": 0
        },
        "margin": {
         "t": 60
        },
        "template": {
         "data": {
          "bar": [
           {
            "error_x": {
             "color": "#2a3f5f"
            },
            "error_y": {
             "color": "#2a3f5f"
            },
            "marker": {
             "line": {
              "color": "#E5ECF6",
              "width": 0.5
             },
             "pattern": {
              "fillmode": "overlay",
              "size": 10,
              "solidity": 0.2
             }
            },
            "type": "bar"
           }
          ],
          "barpolar": [
           {
            "marker": {
             "line": {
              "color": "#E5ECF6",
              "width": 0.5
             },
             "pattern": {
              "fillmode": "overlay",
              "size": 10,
              "solidity": 0.2
             }
            },
            "type": "barpolar"
           }
          ],
          "carpet": [
           {
            "aaxis": {
             "endlinecolor": "#2a3f5f",
             "gridcolor": "white",
             "linecolor": "white",
             "minorgridcolor": "white",
             "startlinecolor": "#2a3f5f"
            },
            "baxis": {
             "endlinecolor": "#2a3f5f",
             "gridcolor": "white",
             "linecolor": "white",
             "minorgridcolor": "white",
             "startlinecolor": "#2a3f5f"
            },
            "type": "carpet"
           }
          ],
          "choropleth": [
           {
            "colorbar": {
             "outlinewidth": 0,
             "ticks": ""
            },
            "type": "choropleth"
           }
          ],
          "contour": [
           {
            "colorbar": {
             "outlinewidth": 0,
             "ticks": ""
            },
            "colorscale": [
             [
              0,
              "#0d0887"
             ],
             [
              0.1111111111111111,
              "#46039f"
             ],
             [
              0.2222222222222222,
              "#7201a8"
             ],
             [
              0.3333333333333333,
              "#9c179e"
             ],
             [
              0.4444444444444444,
              "#bd3786"
             ],
             [
              0.5555555555555556,
              "#d8576b"
             ],
             [
              0.6666666666666666,
              "#ed7953"
             ],
             [
              0.7777777777777778,
              "#fb9f3a"
             ],
             [
              0.8888888888888888,
              "#fdca26"
             ],
             [
              1,
              "#f0f921"
             ]
            ],
            "type": "contour"
           }
          ],
          "contourcarpet": [
           {
            "colorbar": {
             "outlinewidth": 0,
             "ticks": ""
            },
            "type": "contourcarpet"
           }
          ],
          "heatmap": [
           {
            "colorbar": {
             "outlinewidth": 0,
             "ticks": ""
            },
            "colorscale": [
             [
              0,
              "#0d0887"
             ],
             [
              0.1111111111111111,
              "#46039f"
             ],
             [
              0.2222222222222222,
              "#7201a8"
             ],
             [
              0.3333333333333333,
              "#9c179e"
             ],
             [
              0.4444444444444444,
              "#bd3786"
             ],
             [
              0.5555555555555556,
              "#d8576b"
             ],
             [
              0.6666666666666666,
              "#ed7953"
             ],
             [
              0.7777777777777778,
              "#fb9f3a"
             ],
             [
              0.8888888888888888,
              "#fdca26"
             ],
             [
              1,
              "#f0f921"
             ]
            ],
            "type": "heatmap"
           }
          ],
          "heatmapgl": [
           {
            "colorbar": {
             "outlinewidth": 0,
             "ticks": ""
            },
            "colorscale": [
             [
              0,
              "#0d0887"
             ],
             [
              0.1111111111111111,
              "#46039f"
             ],
             [
              0.2222222222222222,
              "#7201a8"
             ],
             [
              0.3333333333333333,
              "#9c179e"
             ],
             [
              0.4444444444444444,
              "#bd3786"
             ],
             [
              0.5555555555555556,
              "#d8576b"
             ],
             [
              0.6666666666666666,
              "#ed7953"
             ],
             [
              0.7777777777777778,
              "#fb9f3a"
             ],
             [
              0.8888888888888888,
              "#fdca26"
             ],
             [
              1,
              "#f0f921"
             ]
            ],
            "type": "heatmapgl"
           }
          ],
          "histogram": [
           {
            "marker": {
             "pattern": {
              "fillmode": "overlay",
              "size": 10,
              "solidity": 0.2
             }
            },
            "type": "histogram"
           }
          ],
          "histogram2d": [
           {
            "colorbar": {
             "outlinewidth": 0,
             "ticks": ""
            },
            "colorscale": [
             [
              0,
              "#0d0887"
             ],
             [
              0.1111111111111111,
              "#46039f"
             ],
             [
              0.2222222222222222,
              "#7201a8"
             ],
             [
              0.3333333333333333,
              "#9c179e"
             ],
             [
              0.4444444444444444,
              "#bd3786"
             ],
             [
              0.5555555555555556,
              "#d8576b"
             ],
             [
              0.6666666666666666,
              "#ed7953"
             ],
             [
              0.7777777777777778,
              "#fb9f3a"
             ],
             [
              0.8888888888888888,
              "#fdca26"
             ],
             [
              1,
              "#f0f921"
             ]
            ],
            "type": "histogram2d"
           }
          ],
          "histogram2dcontour": [
           {
            "colorbar": {
             "outlinewidth": 0,
             "ticks": ""
            },
            "colorscale": [
             [
              0,
              "#0d0887"
             ],
             [
              0.1111111111111111,
              "#46039f"
             ],
             [
              0.2222222222222222,
              "#7201a8"
             ],
             [
              0.3333333333333333,
              "#9c179e"
             ],
             [
              0.4444444444444444,
              "#bd3786"
             ],
             [
              0.5555555555555556,
              "#d8576b"
             ],
             [
              0.6666666666666666,
              "#ed7953"
             ],
             [
              0.7777777777777778,
              "#fb9f3a"
             ],
             [
              0.8888888888888888,
              "#fdca26"
             ],
             [
              1,
              "#f0f921"
             ]
            ],
            "type": "histogram2dcontour"
           }
          ],
          "mesh3d": [
           {
            "colorbar": {
             "outlinewidth": 0,
             "ticks": ""
            },
            "type": "mesh3d"
           }
          ],
          "parcoords": [
           {
            "line": {
             "colorbar": {
              "outlinewidth": 0,
              "ticks": ""
             }
            },
            "type": "parcoords"
           }
          ],
          "pie": [
           {
            "automargin": true,
            "type": "pie"
           }
          ],
          "scatter": [
           {
            "fillpattern": {
             "fillmode": "overlay",
             "size": 10,
             "solidity": 0.2
            },
            "type": "scatter"
           }
          ],
          "scatter3d": [
           {
            "line": {
             "colorbar": {
              "outlinewidth": 0,
              "ticks": ""
             }
            },
            "marker": {
             "colorbar": {
              "outlinewidth": 0,
              "ticks": ""
             }
            },
            "type": "scatter3d"
           }
          ],
          "scattercarpet": [
           {
            "marker": {
             "colorbar": {
              "outlinewidth": 0,
              "ticks": ""
             }
            },
            "type": "scattercarpet"
           }
          ],
          "scattergeo": [
           {
            "marker": {
             "colorbar": {
              "outlinewidth": 0,
              "ticks": ""
             }
            },
            "type": "scattergeo"
           }
          ],
          "scattergl": [
           {
            "marker": {
             "colorbar": {
              "outlinewidth": 0,
              "ticks": ""
             }
            },
            "type": "scattergl"
           }
          ],
          "scattermapbox": [
           {
            "marker": {
             "colorbar": {
              "outlinewidth": 0,
              "ticks": ""
             }
            },
            "type": "scattermapbox"
           }
          ],
          "scatterpolar": [
           {
            "marker": {
             "colorbar": {
              "outlinewidth": 0,
              "ticks": ""
             }
            },
            "type": "scatterpolar"
           }
          ],
          "scatterpolargl": [
           {
            "marker": {
             "colorbar": {
              "outlinewidth": 0,
              "ticks": ""
             }
            },
            "type": "scatterpolargl"
           }
          ],
          "scatterternary": [
           {
            "marker": {
             "colorbar": {
              "outlinewidth": 0,
              "ticks": ""
             }
            },
            "type": "scatterternary"
           }
          ],
          "surface": [
           {
            "colorbar": {
             "outlinewidth": 0,
             "ticks": ""
            },
            "colorscale": [
             [
              0,
              "#0d0887"
             ],
             [
              0.1111111111111111,
              "#46039f"
             ],
             [
              0.2222222222222222,
              "#7201a8"
             ],
             [
              0.3333333333333333,
              "#9c179e"
             ],
             [
              0.4444444444444444,
              "#bd3786"
             ],
             [
              0.5555555555555556,
              "#d8576b"
             ],
             [
              0.6666666666666666,
              "#ed7953"
             ],
             [
              0.7777777777777778,
              "#fb9f3a"
             ],
             [
              0.8888888888888888,
              "#fdca26"
             ],
             [
              1,
              "#f0f921"
             ]
            ],
            "type": "surface"
           }
          ],
          "table": [
           {
            "cells": {
             "fill": {
              "color": "#EBF0F8"
             },
             "line": {
              "color": "white"
             }
            },
            "header": {
             "fill": {
              "color": "#C8D4E3"
             },
             "line": {
              "color": "white"
             }
            },
            "type": "table"
           }
          ]
         },
         "layout": {
          "annotationdefaults": {
           "arrowcolor": "#2a3f5f",
           "arrowhead": 0,
           "arrowwidth": 1
          },
          "autotypenumbers": "strict",
          "coloraxis": {
           "colorbar": {
            "outlinewidth": 0,
            "ticks": ""
           }
          },
          "colorscale": {
           "diverging": [
            [
             0,
             "#8e0152"
            ],
            [
             0.1,
             "#c51b7d"
            ],
            [
             0.2,
             "#de77ae"
            ],
            [
             0.3,
             "#f1b6da"
            ],
            [
             0.4,
             "#fde0ef"
            ],
            [
             0.5,
             "#f7f7f7"
            ],
            [
             0.6,
             "#e6f5d0"
            ],
            [
             0.7,
             "#b8e186"
            ],
            [
             0.8,
             "#7fbc41"
            ],
            [
             0.9,
             "#4d9221"
            ],
            [
             1,
             "#276419"
            ]
           ],
           "sequential": [
            [
             0,
             "#0d0887"
            ],
            [
             0.1111111111111111,
             "#46039f"
            ],
            [
             0.2222222222222222,
             "#7201a8"
            ],
            [
             0.3333333333333333,
             "#9c179e"
            ],
            [
             0.4444444444444444,
             "#bd3786"
            ],
            [
             0.5555555555555556,
             "#d8576b"
            ],
            [
             0.6666666666666666,
             "#ed7953"
            ],
            [
             0.7777777777777778,
             "#fb9f3a"
            ],
            [
             0.8888888888888888,
             "#fdca26"
            ],
            [
             1,
             "#f0f921"
            ]
           ],
           "sequentialminus": [
            [
             0,
             "#0d0887"
            ],
            [
             0.1111111111111111,
             "#46039f"
            ],
            [
             0.2222222222222222,
             "#7201a8"
            ],
            [
             0.3333333333333333,
             "#9c179e"
            ],
            [
             0.4444444444444444,
             "#bd3786"
            ],
            [
             0.5555555555555556,
             "#d8576b"
            ],
            [
             0.6666666666666666,
             "#ed7953"
            ],
            [
             0.7777777777777778,
             "#fb9f3a"
            ],
            [
             0.8888888888888888,
             "#fdca26"
            ],
            [
             1,
             "#f0f921"
            ]
           ]
          },
          "colorway": [
           "#636efa",
           "#EF553B",
           "#00cc96",
           "#ab63fa",
           "#FFA15A",
           "#19d3f3",
           "#FF6692",
           "#B6E880",
           "#FF97FF",
           "#FECB52"
          ],
          "font": {
           "color": "#2a3f5f"
          },
          "geo": {
           "bgcolor": "white",
           "lakecolor": "white",
           "landcolor": "#E5ECF6",
           "showlakes": true,
           "showland": true,
           "subunitcolor": "white"
          },
          "hoverlabel": {
           "align": "left"
          },
          "hovermode": "closest",
          "mapbox": {
           "style": "light"
          },
          "paper_bgcolor": "white",
          "plot_bgcolor": "#E5ECF6",
          "polar": {
           "angularaxis": {
            "gridcolor": "white",
            "linecolor": "white",
            "ticks": ""
           },
           "bgcolor": "#E5ECF6",
           "radialaxis": {
            "gridcolor": "white",
            "linecolor": "white",
            "ticks": ""
           }
          },
          "scene": {
           "xaxis": {
            "backgroundcolor": "#E5ECF6",
            "gridcolor": "white",
            "gridwidth": 2,
            "linecolor": "white",
            "showbackground": true,
            "ticks": "",
            "zerolinecolor": "white"
           },
           "yaxis": {
            "backgroundcolor": "#E5ECF6",
            "gridcolor": "white",
            "gridwidth": 2,
            "linecolor": "white",
            "showbackground": true,
            "ticks": "",
            "zerolinecolor": "white"
           },
           "zaxis": {
            "backgroundcolor": "#E5ECF6",
            "gridcolor": "white",
            "gridwidth": 2,
            "linecolor": "white",
            "showbackground": true,
            "ticks": "",
            "zerolinecolor": "white"
           }
          },
          "shapedefaults": {
           "line": {
            "color": "#2a3f5f"
           }
          },
          "ternary": {
           "aaxis": {
            "gridcolor": "white",
            "linecolor": "white",
            "ticks": ""
           },
           "baxis": {
            "gridcolor": "white",
            "linecolor": "white",
            "ticks": ""
           },
           "bgcolor": "#E5ECF6",
           "caxis": {
            "gridcolor": "white",
            "linecolor": "white",
            "ticks": ""
           }
          },
          "title": {
           "x": 0.05
          },
          "xaxis": {
           "automargin": true,
           "gridcolor": "white",
           "linecolor": "white",
           "ticks": "",
           "title": {
            "standoff": 15
           },
           "zerolinecolor": "white",
           "zerolinewidth": 2
          },
          "yaxis": {
           "automargin": true,
           "gridcolor": "white",
           "linecolor": "white",
           "ticks": "",
           "title": {
            "standoff": 15
           },
           "zerolinecolor": "white",
           "zerolinewidth": 2
          }
         }
        },
        "xaxis": {
         "anchor": "y",
         "domain": [
          0,
          1
         ],
         "title": {
          "text": "Salary"
         }
        },
        "yaxis": {
         "anchor": "x",
         "domain": [
          0,
          1
         ],
         "title": {
          "text": "YearsExperience"
         }
        }
       }
      },
      "text/html": [
       "<div>                            <div id=\"105087ea-7693-4da6-874b-5f20a98122a0\" class=\"plotly-graph-div\" style=\"height:525px; width:100%;\"></div>            <script type=\"text/javascript\">                require([\"plotly\"], function(Plotly) {                    window.PLOTLYENV=window.PLOTLYENV || {};                                    if (document.getElementById(\"105087ea-7693-4da6-874b-5f20a98122a0\")) {                    Plotly.newPlot(                        \"105087ea-7693-4da6-874b-5f20a98122a0\",                        [{\"hovertemplate\":\"Salary=%{x}<br>YearsExperience=%{marker.size}<extra></extra>\",\"legendgroup\":\"\",\"marker\":{\"color\":\"#636efa\",\"size\":[1.1,1.3,1.5,2.0,2.2,2.9,3.0,3.2,3.2,3.7,3.9,4.0,4.0,4.1,4.5,4.9,5.1,5.3,5.9,6.0,6.8,7.1,7.9,8.2,8.7,9.0,9.5,9.6,10.3,10.5],\"sizemode\":\"area\",\"sizeref\":0.02625,\"symbol\":\"circle\"},\"mode\":\"markers\",\"name\":\"\",\"orientation\":\"v\",\"showlegend\":false,\"x\":[39343.0,46205.0,37731.0,43525.0,39891.0,56642.0,60150.0,54445.0,64445.0,57189.0,63218.0,55794.0,56957.0,57081.0,61111.0,67938.0,66029.0,83088.0,81363.0,93940.0,91738.0,98273.0,101302.0,113812.0,109431.0,105582.0,116969.0,112635.0,122391.0,121872.0],\"xaxis\":\"x\",\"y\":[1.1,1.3,1.5,2.0,2.2,2.9,3.0,3.2,3.2,3.7,3.9,4.0,4.0,4.1,4.5,4.9,5.1,5.3,5.9,6.0,6.8,7.1,7.9,8.2,8.7,9.0,9.5,9.6,10.3,10.5],\"yaxis\":\"y\",\"type\":\"scatter\"},{\"hovertemplate\":\"<b>OLS trendline</b><br>YearsExperience = 0.000101266 * Salary + -2.38316<br>R<sup>2</sup>=0.956957<br><br>Salary=%{x}<br>YearsExperience=%{y} <b>(trend)</b><extra></extra>\",\"legendgroup\":\"\",\"marker\":{\"color\":\"#636efa\",\"symbol\":\"circle\"},\"mode\":\"lines\",\"name\":\"\",\"showlegend\":false,\"x\":[37731.0,39343.0,39891.0,43525.0,46205.0,54445.0,55794.0,56642.0,56957.0,57081.0,57189.0,60150.0,61111.0,63218.0,64445.0,66029.0,67938.0,81363.0,83088.0,91738.0,93940.0,98273.0,101302.0,105582.0,109431.0,112635.0,113812.0,116969.0,121872.0,122391.0],\"xaxis\":\"x\",\"y\":[1.4376940234338402,1.6009342661062371,1.6564278473621146,2.0244272529895904,2.295819219715412,3.1302482517380863,3.2668556260340322,3.3527289050577247,3.384627587713931,3.397184529457962,3.408121220654375,3.707968837622718,3.805285136138955,4.018651880128248,4.142904843998615,4.303309648212682,4.496625791675217,5.856117266784976,6.030800528949918,6.906748481255274,7.129735462871041,7.568519564297528,7.8752532460932425,8.308670267580748,8.698441789941826,9.022896962102099,9.142086643011163,9.461782329187812,9.958287856373149,10.01084473351147],\"yaxis\":\"y\",\"type\":\"scatter\"}],                        {\"template\":{\"data\":{\"histogram2dcontour\":[{\"type\":\"histogram2dcontour\",\"colorbar\":{\"outlinewidth\":0,\"ticks\":\"\"},\"colorscale\":[[0.0,\"#0d0887\"],[0.1111111111111111,\"#46039f\"],[0.2222222222222222,\"#7201a8\"],[0.3333333333333333,\"#9c179e\"],[0.4444444444444444,\"#bd3786\"],[0.5555555555555556,\"#d8576b\"],[0.6666666666666666,\"#ed7953\"],[0.7777777777777778,\"#fb9f3a\"],[0.8888888888888888,\"#fdca26\"],[1.0,\"#f0f921\"]]}],\"choropleth\":[{\"type\":\"choropleth\",\"colorbar\":{\"outlinewidth\":0,\"ticks\":\"\"}}],\"histogram2d\":[{\"type\":\"histogram2d\",\"colorbar\":{\"outlinewidth\":0,\"ticks\":\"\"},\"colorscale\":[[0.0,\"#0d0887\"],[0.1111111111111111,\"#46039f\"],[0.2222222222222222,\"#7201a8\"],[0.3333333333333333,\"#9c179e\"],[0.4444444444444444,\"#bd3786\"],[0.5555555555555556,\"#d8576b\"],[0.6666666666666666,\"#ed7953\"],[0.7777777777777778,\"#fb9f3a\"],[0.8888888888888888,\"#fdca26\"],[1.0,\"#f0f921\"]]}],\"heatmap\":[{\"type\":\"heatmap\",\"colorbar\":{\"outlinewidth\":0,\"ticks\":\"\"},\"colorscale\":[[0.0,\"#0d0887\"],[0.1111111111111111,\"#46039f\"],[0.2222222222222222,\"#7201a8\"],[0.3333333333333333,\"#9c179e\"],[0.4444444444444444,\"#bd3786\"],[0.5555555555555556,\"#d8576b\"],[0.6666666666666666,\"#ed7953\"],[0.7777777777777778,\"#fb9f3a\"],[0.8888888888888888,\"#fdca26\"],[1.0,\"#f0f921\"]]}],\"heatmapgl\":[{\"type\":\"heatmapgl\",\"colorbar\":{\"outlinewidth\":0,\"ticks\":\"\"},\"colorscale\":[[0.0,\"#0d0887\"],[0.1111111111111111,\"#46039f\"],[0.2222222222222222,\"#7201a8\"],[0.3333333333333333,\"#9c179e\"],[0.4444444444444444,\"#bd3786\"],[0.5555555555555556,\"#d8576b\"],[0.6666666666666666,\"#ed7953\"],[0.7777777777777778,\"#fb9f3a\"],[0.8888888888888888,\"#fdca26\"],[1.0,\"#f0f921\"]]}],\"contourcarpet\":[{\"type\":\"contourcarpet\",\"colorbar\":{\"outlinewidth\":0,\"ticks\":\"\"}}],\"contour\":[{\"type\":\"contour\",\"colorbar\":{\"outlinewidth\":0,\"ticks\":\"\"},\"colorscale\":[[0.0,\"#0d0887\"],[0.1111111111111111,\"#46039f\"],[0.2222222222222222,\"#7201a8\"],[0.3333333333333333,\"#9c179e\"],[0.4444444444444444,\"#bd3786\"],[0.5555555555555556,\"#d8576b\"],[0.6666666666666666,\"#ed7953\"],[0.7777777777777778,\"#fb9f3a\"],[0.8888888888888888,\"#fdca26\"],[1.0,\"#f0f921\"]]}],\"surface\":[{\"type\":\"surface\",\"colorbar\":{\"outlinewidth\":0,\"ticks\":\"\"},\"colorscale\":[[0.0,\"#0d0887\"],[0.1111111111111111,\"#46039f\"],[0.2222222222222222,\"#7201a8\"],[0.3333333333333333,\"#9c179e\"],[0.4444444444444444,\"#bd3786\"],[0.5555555555555556,\"#d8576b\"],[0.6666666666666666,\"#ed7953\"],[0.7777777777777778,\"#fb9f3a\"],[0.8888888888888888,\"#fdca26\"],[1.0,\"#f0f921\"]]}],\"mesh3d\":[{\"type\":\"mesh3d\",\"colorbar\":{\"outlinewidth\":0,\"ticks\":\"\"}}],\"scatter\":[{\"fillpattern\":{\"fillmode\":\"overlay\",\"size\":10,\"solidity\":0.2},\"type\":\"scatter\"}],\"parcoords\":[{\"type\":\"parcoords\",\"line\":{\"colorbar\":{\"outlinewidth\":0,\"ticks\":\"\"}}}],\"scatterpolargl\":[{\"type\":\"scatterpolargl\",\"marker\":{\"colorbar\":{\"outlinewidth\":0,\"ticks\":\"\"}}}],\"bar\":[{\"error_x\":{\"color\":\"#2a3f5f\"},\"error_y\":{\"color\":\"#2a3f5f\"},\"marker\":{\"line\":{\"color\":\"#E5ECF6\",\"width\":0.5},\"pattern\":{\"fillmode\":\"overlay\",\"size\":10,\"solidity\":0.2}},\"type\":\"bar\"}],\"scattergeo\":[{\"type\":\"scattergeo\",\"marker\":{\"colorbar\":{\"outlinewidth\":0,\"ticks\":\"\"}}}],\"scatterpolar\":[{\"type\":\"scatterpolar\",\"marker\":{\"colorbar\":{\"outlinewidth\":0,\"ticks\":\"\"}}}],\"histogram\":[{\"marker\":{\"pattern\":{\"fillmode\":\"overlay\",\"size\":10,\"solidity\":0.2}},\"type\":\"histogram\"}],\"scattergl\":[{\"type\":\"scattergl\",\"marker\":{\"colorbar\":{\"outlinewidth\":0,\"ticks\":\"\"}}}],\"scatter3d\":[{\"type\":\"scatter3d\",\"line\":{\"colorbar\":{\"outlinewidth\":0,\"ticks\":\"\"}},\"marker\":{\"colorbar\":{\"outlinewidth\":0,\"ticks\":\"\"}}}],\"scattermapbox\":[{\"type\":\"scattermapbox\",\"marker\":{\"colorbar\":{\"outlinewidth\":0,\"ticks\":\"\"}}}],\"scatterternary\":[{\"type\":\"scatterternary\",\"marker\":{\"colorbar\":{\"outlinewidth\":0,\"ticks\":\"\"}}}],\"scattercarpet\":[{\"type\":\"scattercarpet\",\"marker\":{\"colorbar\":{\"outlinewidth\":0,\"ticks\":\"\"}}}],\"carpet\":[{\"aaxis\":{\"endlinecolor\":\"#2a3f5f\",\"gridcolor\":\"white\",\"linecolor\":\"white\",\"minorgridcolor\":\"white\",\"startlinecolor\":\"#2a3f5f\"},\"baxis\":{\"endlinecolor\":\"#2a3f5f\",\"gridcolor\":\"white\",\"linecolor\":\"white\",\"minorgridcolor\":\"white\",\"startlinecolor\":\"#2a3f5f\"},\"type\":\"carpet\"}],\"table\":[{\"cells\":{\"fill\":{\"color\":\"#EBF0F8\"},\"line\":{\"color\":\"white\"}},\"header\":{\"fill\":{\"color\":\"#C8D4E3\"},\"line\":{\"color\":\"white\"}},\"type\":\"table\"}],\"barpolar\":[{\"marker\":{\"line\":{\"color\":\"#E5ECF6\",\"width\":0.5},\"pattern\":{\"fillmode\":\"overlay\",\"size\":10,\"solidity\":0.2}},\"type\":\"barpolar\"}],\"pie\":[{\"automargin\":true,\"type\":\"pie\"}]},\"layout\":{\"autotypenumbers\":\"strict\",\"colorway\":[\"#636efa\",\"#EF553B\",\"#00cc96\",\"#ab63fa\",\"#FFA15A\",\"#19d3f3\",\"#FF6692\",\"#B6E880\",\"#FF97FF\",\"#FECB52\"],\"font\":{\"color\":\"#2a3f5f\"},\"hovermode\":\"closest\",\"hoverlabel\":{\"align\":\"left\"},\"paper_bgcolor\":\"white\",\"plot_bgcolor\":\"#E5ECF6\",\"polar\":{\"bgcolor\":\"#E5ECF6\",\"angularaxis\":{\"gridcolor\":\"white\",\"linecolor\":\"white\",\"ticks\":\"\"},\"radialaxis\":{\"gridcolor\":\"white\",\"linecolor\":\"white\",\"ticks\":\"\"}},\"ternary\":{\"bgcolor\":\"#E5ECF6\",\"aaxis\":{\"gridcolor\":\"white\",\"linecolor\":\"white\",\"ticks\":\"\"},\"baxis\":{\"gridcolor\":\"white\",\"linecolor\":\"white\",\"ticks\":\"\"},\"caxis\":{\"gridcolor\":\"white\",\"linecolor\":\"white\",\"ticks\":\"\"}},\"coloraxis\":{\"colorbar\":{\"outlinewidth\":0,\"ticks\":\"\"}},\"colorscale\":{\"sequential\":[[0.0,\"#0d0887\"],[0.1111111111111111,\"#46039f\"],[0.2222222222222222,\"#7201a8\"],[0.3333333333333333,\"#9c179e\"],[0.4444444444444444,\"#bd3786\"],[0.5555555555555556,\"#d8576b\"],[0.6666666666666666,\"#ed7953\"],[0.7777777777777778,\"#fb9f3a\"],[0.8888888888888888,\"#fdca26\"],[1.0,\"#f0f921\"]],\"sequentialminus\":[[0.0,\"#0d0887\"],[0.1111111111111111,\"#46039f\"],[0.2222222222222222,\"#7201a8\"],[0.3333333333333333,\"#9c179e\"],[0.4444444444444444,\"#bd3786\"],[0.5555555555555556,\"#d8576b\"],[0.6666666666666666,\"#ed7953\"],[0.7777777777777778,\"#fb9f3a\"],[0.8888888888888888,\"#fdca26\"],[1.0,\"#f0f921\"]],\"diverging\":[[0,\"#8e0152\"],[0.1,\"#c51b7d\"],[0.2,\"#de77ae\"],[0.3,\"#f1b6da\"],[0.4,\"#fde0ef\"],[0.5,\"#f7f7f7\"],[0.6,\"#e6f5d0\"],[0.7,\"#b8e186\"],[0.8,\"#7fbc41\"],[0.9,\"#4d9221\"],[1,\"#276419\"]]},\"xaxis\":{\"gridcolor\":\"white\",\"linecolor\":\"white\",\"ticks\":\"\",\"title\":{\"standoff\":15},\"zerolinecolor\":\"white\",\"automargin\":true,\"zerolinewidth\":2},\"yaxis\":{\"gridcolor\":\"white\",\"linecolor\":\"white\",\"ticks\":\"\",\"title\":{\"standoff\":15},\"zerolinecolor\":\"white\",\"automargin\":true,\"zerolinewidth\":2},\"scene\":{\"xaxis\":{\"backgroundcolor\":\"#E5ECF6\",\"gridcolor\":\"white\",\"linecolor\":\"white\",\"showbackground\":true,\"ticks\":\"\",\"zerolinecolor\":\"white\",\"gridwidth\":2},\"yaxis\":{\"backgroundcolor\":\"#E5ECF6\",\"gridcolor\":\"white\",\"linecolor\":\"white\",\"showbackground\":true,\"ticks\":\"\",\"zerolinecolor\":\"white\",\"gridwidth\":2},\"zaxis\":{\"backgroundcolor\":\"#E5ECF6\",\"gridcolor\":\"white\",\"linecolor\":\"white\",\"showbackground\":true,\"ticks\":\"\",\"zerolinecolor\":\"white\",\"gridwidth\":2}},\"shapedefaults\":{\"line\":{\"color\":\"#2a3f5f\"}},\"annotationdefaults\":{\"arrowcolor\":\"#2a3f5f\",\"arrowhead\":0,\"arrowwidth\":1},\"geo\":{\"bgcolor\":\"white\",\"landcolor\":\"#E5ECF6\",\"subunitcolor\":\"white\",\"showland\":true,\"showlakes\":true,\"lakecolor\":\"white\"},\"title\":{\"x\":0.05},\"mapbox\":{\"style\":\"light\"}}},\"xaxis\":{\"anchor\":\"y\",\"domain\":[0.0,1.0],\"title\":{\"text\":\"Salary\"}},\"yaxis\":{\"anchor\":\"x\",\"domain\":[0.0,1.0],\"title\":{\"text\":\"YearsExperience\"}},\"legend\":{\"tracegroupgap\":0,\"itemsizing\":\"constant\"},\"margin\":{\"t\":60}},                        {\"responsive\": true}                    ).then(function(){\n",
       "                            \n",
       "var gd = document.getElementById('105087ea-7693-4da6-874b-5f20a98122a0');\n",
       "var x = new MutationObserver(function (mutations, observer) {{\n",
       "        var display = window.getComputedStyle(gd).display;\n",
       "        if (!display || display === 'none') {{\n",
       "            console.log([gd, 'removed!']);\n",
       "            Plotly.purge(gd);\n",
       "            observer.disconnect();\n",
       "        }}\n",
       "}});\n",
       "\n",
       "// Listen for the removal of the full notebook cells\n",
       "var notebookContainer = gd.closest('#notebook-container');\n",
       "if (notebookContainer) {{\n",
       "    x.observe(notebookContainer, {childList: true});\n",
       "}}\n",
       "\n",
       "// Listen for the clearing of the current output cell\n",
       "var outputEl = gd.closest('.output');\n",
       "if (outputEl) {{\n",
       "    x.observe(outputEl, {childList: true});\n",
       "}}\n",
       "\n",
       "                        })                };                });            </script>        </div>"
      ]
     },
     "metadata": {},
     "output_type": "display_data"
    }
   ],
   "source": [
    "##Verilerin Görselleştirilmesi\n",
    "##Tecrübe ile maaaş artışının \n",
    "figure = px.scatter(data_frame = data, \n",
    "                    x=\"Salary\",\n",
    "                    y=\"YearsExperience\", \n",
    "                    size=\"YearsExperience\", \n",
    "                    trendline=\"ols\")\n",
    "figure.show()"
   ]
  },
  {
   "cell_type": "code",
   "execution_count": 29,
   "id": "b5cae854",
   "metadata": {},
   "outputs": [
    {
     "data": {
      "text/html": [
       "<div>\n",
       "<style scoped>\n",
       "    .dataframe tbody tr th:only-of-type {\n",
       "        vertical-align: middle;\n",
       "    }\n",
       "\n",
       "    .dataframe tbody tr th {\n",
       "        vertical-align: top;\n",
       "    }\n",
       "\n",
       "    .dataframe thead th {\n",
       "        text-align: right;\n",
       "    }\n",
       "</style>\n",
       "<table border=\"1\" class=\"dataframe\">\n",
       "  <thead>\n",
       "    <tr style=\"text-align: right;\">\n",
       "      <th></th>\n",
       "      <th>YearsExperience</th>\n",
       "      <th>Salary</th>\n",
       "    </tr>\n",
       "  </thead>\n",
       "  <tbody>\n",
       "    <tr>\n",
       "      <th>YearsExperience</th>\n",
       "      <td>1.000000</td>\n",
       "      <td>0.978242</td>\n",
       "    </tr>\n",
       "    <tr>\n",
       "      <th>Salary</th>\n",
       "      <td>0.978242</td>\n",
       "      <td>1.000000</td>\n",
       "    </tr>\n",
       "  </tbody>\n",
       "</table>\n",
       "</div>"
      ],
      "text/plain": [
       "                 YearsExperience    Salary\n",
       "YearsExperience         1.000000  0.978242\n",
       "Salary                  0.978242  1.000000"
      ]
     },
     "execution_count": 29,
     "metadata": {},
     "output_type": "execute_result"
    }
   ],
   "source": [
    "df.corr()"
   ]
  },
  {
   "cell_type": "code",
   "execution_count": 36,
   "id": "90aadef2",
   "metadata": {},
   "outputs": [
    {
     "data": {
      "text/plain": [
       "<AxesSubplot:>"
      ]
     },
     "execution_count": 36,
     "metadata": {},
     "output_type": "execute_result"
    },
    {
     "data": {
      "image/png": "[encoded data removed]",
      "text/plain": [
       "<Figure size 800x550 with 2 Axes>"
      ]
     },
     "metadata": {},
     "output_type": "display_data"
    }
   ],
   "source": [
    "##plt.figure(figsize=(30,20))\n",
    "sns.heatmap(df.corr(),annot=True)"
   ]
  },
  {
   "cell_type": "markdown",
   "id": "83001959",
   "metadata": {},
   "source": [
    "# Modeling"
   ]
  },
  {
   "cell_type": "code",
   "execution_count": 17,
   "id": "56c4c81f",
   "metadata": {},
   "outputs": [],
   "source": [
    "from sklearn.model_selection import train_test_split\n",
    "from sklearn.linear_model import LinearRegression\n",
    "\n",
    "Model_Predict=np.asanyarray(data[[\"YearsExperience\"]])\n",
    "x = np.asanyarray(data[[\"YearsExperience\"]])\n",
    "y = np.asanyarray(data[[\"Salary\"]])\n",
    "xtrain, xtest, ytrain, ytest = train_test_split(x, y, \n",
    "                                                test_size=0.2, \n",
    "                                                random_state=42)"
   ]
  },
  {
   "cell_type": "code",
   "execution_count": 19,
   "id": "edcf890b",
   "metadata": {},
   "outputs": [
    {
     "data": {
      "text/plain": [
       "((30, 1), (30, 1), (30, 2))"
      ]
     },
     "execution_count": 19,
     "metadata": {},
     "output_type": "execute_result"
    }
   ],
   "source": [
    "x.shape,y.shape,df.shape"
   ]
  },
  {
   "cell_type": "code",
   "execution_count": 13,
   "id": "b032e3f1",
   "metadata": {},
   "outputs": [
    {
     "data": {
      "text/plain": [
       "LinearRegression()"
      ]
     },
     "execution_count": 13,
     "metadata": {},
     "output_type": "execute_result"
    }
   ],
   "source": [
    "model = LinearRegression()\n",
    "model.fit(xtrain, ytrain)"
   ]
  },
  {
   "cell_type": "code",
   "execution_count": 20,
   "id": "acebbcb1",
   "metadata": {},
   "outputs": [
    {
     "name": "stdout",
     "output_type": "stream",
     "text": [
      "Years of Experience : 13\n",
      "[[13.]]\n",
      "Predicted Salary =  [[147831.18221118]]\n"
     ]
    }
   ],
   "source": [
    "##Modelimizi Test Ediyoruz Başarılı Olduğunu Görüyoruz.\n",
    "a = float(input(\"Years of Experience : \"))\n",
    "features = np.array([[a]])\n",
    "print(features)\n",
    "print(\"Predicted Salary = \", model.predict(features))"
   ]
  },
  {
   "cell_type": "markdown",
   "id": "eb693324",
   "metadata": {},
   "source": [
    "# Classic Modelllerimiz ile bir bakalım"
   ]
  },
  {
   "cell_type": "code",
   "execution_count": 16,
   "id": "6b7b28a6",
   "metadata": {},
   "outputs": [],
   "source": [
    "### Regression Modelleri için Bir Function Create Ediyoruz\n",
    "def fnc_regression_all_model(x,y,predict_test):\n",
    "    from sklearn.linear_model import LinearRegression\n",
    "    from sklearn.linear_model import Ridge,Lasso\n",
    "    from sklearn.linear_model import ElasticNet\n",
    "    from sklearn.tree import ExtraTreeRegressor\n",
    "    from sklearn.ensemble import GradientBoostingRegressor\n",
    "    from sklearn.neighbors import KNeighborsRegressor\n",
    "    \n",
    "    from sklearn.model_selection import train_test_split\n",
    "\n",
    "    from sklearn.metrics import mean_squared_error,r2_score,mean_absolute_error\n",
    "    \n",
    "    \n",
    "    x_train,x_test,y_train,y_test=train_test_split(x,y,test_size=0.2,random_state=42)\n",
    "\n",
    "    L=LinearRegression()\n",
    "    R=Ridge()\n",
    "    Lass=Lasso()\n",
    "    E=ElasticNet()\n",
    "    ExTree=ExtraTreeRegressor()\n",
    "    GBR=GradientBoostingRegressor()\n",
    "    KN=KNeighborsRegressor()\n",
    "    \n",
    "    algos=[L,R,Lass,E,ExTree,GBR,KN]\n",
    "    algo_names=['LinearRegression','Ridge','Lasso','ElasticNet','ExtraTreeRegressor','GradientBoostingRegressor','KNeighborsRegressor']\n",
    "    r_squared=[]\n",
    "    rmse=[]\n",
    "    mae=[]\n",
    "    \n",
    "    result=pd.DataFrame(columns=['R_Squared','RMSE','MAE'],index=algo_names)\n",
    "    \n",
    "    for item in algos:\n",
    "        item.fit(x_train,y_train)\n",
    "        item.predict(x_test)\n",
    "        r_squared.append(r2_score(y_test,item.predict(x_test)))\n",
    "        rmse.append((mean_squared_error(y_test,item.predict(x_test)))**.5)\n",
    "        mae.append(mean_absolute_error(y_test,item.predict(x_test)))\n",
    "        \n",
    "    result.R_Squared=r_squared\n",
    "    result.RMSE=rmse\n",
    "    result.MAE=mae\n",
    "    \n",
    "    fnc_regression_all_model.predict1_df2_survived=GBR.predict(predict_test)\n",
    "    \n",
    "    \n",
    "    return result.sort_values('R_Squared',ascending=False)"
   ]
  },
  {
   "cell_type": "code",
   "execution_count": 23,
   "id": "8418154f",
   "metadata": {},
   "outputs": [
    {
     "data": {
      "text/html": [
       "<div>\n",
       "<style scoped>\n",
       "    .dataframe tbody tr th:only-of-type {\n",
       "        vertical-align: middle;\n",
       "    }\n",
       "\n",
       "    .dataframe tbody tr th {\n",
       "        vertical-align: top;\n",
       "    }\n",
       "\n",
       "    .dataframe thead th {\n",
       "        text-align: right;\n",
       "    }\n",
       "</style>\n",
       "<table border=\"1\" class=\"dataframe\">\n",
       "  <thead>\n",
       "    <tr style=\"text-align: right;\">\n",
       "      <th></th>\n",
       "      <th>R_Squared</th>\n",
       "      <th>RMSE</th>\n",
       "      <th>MAE</th>\n",
       "    </tr>\n",
       "  </thead>\n",
       "  <tbody>\n",
       "    <tr>\n",
       "      <th>LinearRegression</th>\n",
       "      <td>0.902446</td>\n",
       "      <td>7059.043622</td>\n",
       "      <td>6286.453831</td>\n",
       "    </tr>\n",
       "    <tr>\n",
       "      <th>Lasso</th>\n",
       "      <td>0.902446</td>\n",
       "      <td>7059.067542</td>\n",
       "      <td>6286.423714</td>\n",
       "    </tr>\n",
       "    <tr>\n",
       "      <th>Ridge</th>\n",
       "      <td>0.902163</td>\n",
       "      <td>7069.289407</td>\n",
       "      <td>6274.687372</td>\n",
       "    </tr>\n",
       "    <tr>\n",
       "      <th>ExtraTreeRegressor</th>\n",
       "      <td>0.902014</td>\n",
       "      <td>7074.662442</td>\n",
       "      <td>6453.000000</td>\n",
       "    </tr>\n",
       "    <tr>\n",
       "      <th>KNeighborsRegressor</th>\n",
       "      <td>0.901414</td>\n",
       "      <td>7096.287088</td>\n",
       "      <td>6091.100000</td>\n",
       "    </tr>\n",
       "    <tr>\n",
       "      <th>ElasticNet</th>\n",
       "      <td>0.896253</td>\n",
       "      <td>7279.675010</td>\n",
       "      <td>6152.595250</td>\n",
       "    </tr>\n",
       "    <tr>\n",
       "      <th>GradientBoostingRegressor</th>\n",
       "      <td>0.805220</td>\n",
       "      <td>9974.601877</td>\n",
       "      <td>8530.496270</td>\n",
       "    </tr>\n",
       "  </tbody>\n",
       "</table>\n",
       "</div>"
      ],
      "text/plain": [
       "                           R_Squared         RMSE          MAE\n",
       "LinearRegression            0.902446  7059.043622  6286.453831\n",
       "Lasso                       0.902446  7059.067542  6286.423714\n",
       "Ridge                       0.902163  7069.289407  6274.687372\n",
       "ExtraTreeRegressor          0.902014  7074.662442  6453.000000\n",
       "KNeighborsRegressor         0.901414  7096.287088  6091.100000\n",
       "ElasticNet                  0.896253  7279.675010  6152.595250\n",
       "GradientBoostingRegressor   0.805220  9974.601877  8530.496270"
      ]
     },
     "execution_count": 23,
     "metadata": {},
     "output_type": "execute_result"
    }
   ],
   "source": [
    "fnc_regression_all_model(x,y,Model_Predict)"
   ]
  },
  {
   "cell_type": "markdown",
   "id": "485ce6c6",
   "metadata": {},
   "source": [
    "# PyCaret Regression Tahminleme Yapalım"
   ]
  },
  {
   "cell_type": "code",
   "execution_count": 24,
   "id": "05682205",
   "metadata": {},
   "outputs": [],
   "source": [
    "from pycaret.regression import*"
   ]
  },
  {
   "cell_type": "code",
   "execution_count": 26,
   "id": "975af319",
   "metadata": {},
   "outputs": [
    {
     "data": {
      "text/html": [
       "<style type=\"text/css\">\n",
       "#T_97bc4_row8_col1 {\n",
       "  background-color: lightgreen;\n",
       "}\n",
       "</style>\n",
       "<table id=\"T_97bc4\">\n",
       "  <thead>\n",
       "    <tr>\n",
       "      <th class=\"blank level0\" >&nbsp;</th>\n",
       "      <th id=\"T_97bc4_level0_col0\" class=\"col_heading level0 col0\" >Description</th>\n",
       "      <th id=\"T_97bc4_level0_col1\" class=\"col_heading level0 col1\" >Value</th>\n",
       "    </tr>\n",
       "  </thead>\n",
       "  <tbody>\n",
       "    <tr>\n",
       "      <th id=\"T_97bc4_level0_row0\" class=\"row_heading level0 row0\" >0</th>\n",
       "      <td id=\"T_97bc4_row0_col0\" class=\"data row0 col0\" >Session id</td>\n",
       "      <td id=\"T_97bc4_row0_col1\" class=\"data row0 col1\" >7661</td>\n",
       "    </tr>\n",
       "    <tr>\n",
       "      <th id=\"T_97bc4_level0_row1\" class=\"row_heading level0 row1\" >1</th>\n",
       "      <td id=\"T_97bc4_row1_col0\" class=\"data row1 col0\" >Target</td>\n",
       "      <td id=\"T_97bc4_row1_col1\" class=\"data row1 col1\" >Salary</td>\n",
       "    </tr>\n",
       "    <tr>\n",
       "      <th id=\"T_97bc4_level0_row2\" class=\"row_heading level0 row2\" >2</th>\n",
       "      <td id=\"T_97bc4_row2_col0\" class=\"data row2 col0\" >Target type</td>\n",
       "      <td id=\"T_97bc4_row2_col1\" class=\"data row2 col1\" >Regression</td>\n",
       "    </tr>\n",
       "    <tr>\n",
       "      <th id=\"T_97bc4_level0_row3\" class=\"row_heading level0 row3\" >3</th>\n",
       "      <td id=\"T_97bc4_row3_col0\" class=\"data row3 col0\" >Original data shape</td>\n",
       "      <td id=\"T_97bc4_row3_col1\" class=\"data row3 col1\" >(30, 2)</td>\n",
       "    </tr>\n",
       "    <tr>\n",
       "      <th id=\"T_97bc4_level0_row4\" class=\"row_heading level0 row4\" >4</th>\n",
       "      <td id=\"T_97bc4_row4_col0\" class=\"data row4 col0\" >Transformed data shape</td>\n",
       "      <td id=\"T_97bc4_row4_col1\" class=\"data row4 col1\" >(30, 2)</td>\n",
       "    </tr>\n",
       "    <tr>\n",
       "      <th id=\"T_97bc4_level0_row5\" class=\"row_heading level0 row5\" >5</th>\n",
       "      <td id=\"T_97bc4_row5_col0\" class=\"data row5 col0\" >Transformed train set shape</td>\n",
       "      <td id=\"T_97bc4_row5_col1\" class=\"data row5 col1\" >(21, 2)</td>\n",
       "    </tr>\n",
       "    <tr>\n",
       "      <th id=\"T_97bc4_level0_row6\" class=\"row_heading level0 row6\" >6</th>\n",
       "      <td id=\"T_97bc4_row6_col0\" class=\"data row6 col0\" >Transformed test set shape</td>\n",
       "      <td id=\"T_97bc4_row6_col1\" class=\"data row6 col1\" >(9, 2)</td>\n",
       "    </tr>\n",
       "    <tr>\n",
       "      <th id=\"T_97bc4_level0_row7\" class=\"row_heading level0 row7\" >7</th>\n",
       "      <td id=\"T_97bc4_row7_col0\" class=\"data row7 col0\" >Numeric features</td>\n",
       "      <td id=\"T_97bc4_row7_col1\" class=\"data row7 col1\" >1</td>\n",
       "    </tr>\n",
       "    <tr>\n",
       "      <th id=\"T_97bc4_level0_row8\" class=\"row_heading level0 row8\" >8</th>\n",
       "      <td id=\"T_97bc4_row8_col0\" class=\"data row8 col0\" >Preprocess</td>\n",
       "      <td id=\"T_97bc4_row8_col1\" class=\"data row8 col1\" >True</td>\n",
       "    </tr>\n",
       "    <tr>\n",
       "      <th id=\"T_97bc4_level0_row9\" class=\"row_heading level0 row9\" >9</th>\n",
       "      <td id=\"T_97bc4_row9_col0\" class=\"data row9 col0\" >Imputation type</td>\n",
       "      <td id=\"T_97bc4_row9_col1\" class=\"data row9 col1\" >simple</td>\n",
       "    </tr>\n",
       "    <tr>\n",
       "      <th id=\"T_97bc4_level0_row10\" class=\"row_heading level0 row10\" >10</th>\n",
       "      <td id=\"T_97bc4_row10_col0\" class=\"data row10 col0\" >Numeric imputation</td>\n",
       "      <td id=\"T_97bc4_row10_col1\" class=\"data row10 col1\" >mean</td>\n",
       "    </tr>\n",
       "    <tr>\n",
       "      <th id=\"T_97bc4_level0_row11\" class=\"row_heading level0 row11\" >11</th>\n",
       "      <td id=\"T_97bc4_row11_col0\" class=\"data row11 col0\" >Categorical imputation</td>\n",
       "      <td id=\"T_97bc4_row11_col1\" class=\"data row11 col1\" >mode</td>\n",
       "    </tr>\n",
       "    <tr>\n",
       "      <th id=\"T_97bc4_level0_row12\" class=\"row_heading level0 row12\" >12</th>\n",
       "      <td id=\"T_97bc4_row12_col0\" class=\"data row12 col0\" >Fold Generator</td>\n",
       "      <td id=\"T_97bc4_row12_col1\" class=\"data row12 col1\" >KFold</td>\n",
       "    </tr>\n",
       "    <tr>\n",
       "      <th id=\"T_97bc4_level0_row13\" class=\"row_heading level0 row13\" >13</th>\n",
       "      <td id=\"T_97bc4_row13_col0\" class=\"data row13 col0\" >Fold Number</td>\n",
       "      <td id=\"T_97bc4_row13_col1\" class=\"data row13 col1\" >10</td>\n",
       "    </tr>\n",
       "    <tr>\n",
       "      <th id=\"T_97bc4_level0_row14\" class=\"row_heading level0 row14\" >14</th>\n",
       "      <td id=\"T_97bc4_row14_col0\" class=\"data row14 col0\" >CPU Jobs</td>\n",
       "      <td id=\"T_97bc4_row14_col1\" class=\"data row14 col1\" >-1</td>\n",
       "    </tr>\n",
       "    <tr>\n",
       "      <th id=\"T_97bc4_level0_row15\" class=\"row_heading level0 row15\" >15</th>\n",
       "      <td id=\"T_97bc4_row15_col0\" class=\"data row15 col0\" >Use GPU</td>\n",
       "      <td id=\"T_97bc4_row15_col1\" class=\"data row15 col1\" >False</td>\n",
       "    </tr>\n",
       "    <tr>\n",
       "      <th id=\"T_97bc4_level0_row16\" class=\"row_heading level0 row16\" >16</th>\n",
       "      <td id=\"T_97bc4_row16_col0\" class=\"data row16 col0\" >Log Experiment</td>\n",
       "      <td id=\"T_97bc4_row16_col1\" class=\"data row16 col1\" >False</td>\n",
       "    </tr>\n",
       "    <tr>\n",
       "      <th id=\"T_97bc4_level0_row17\" class=\"row_heading level0 row17\" >17</th>\n",
       "      <td id=\"T_97bc4_row17_col0\" class=\"data row17 col0\" >Experiment Name</td>\n",
       "      <td id=\"T_97bc4_row17_col1\" class=\"data row17 col1\" >reg-default-name</td>\n",
       "    </tr>\n",
       "    <tr>\n",
       "      <th id=\"T_97bc4_level0_row18\" class=\"row_heading level0 row18\" >18</th>\n",
       "      <td id=\"T_97bc4_row18_col0\" class=\"data row18 col0\" >USI</td>\n",
       "      <td id=\"T_97bc4_row18_col1\" class=\"data row18 col1\" >058b</td>\n",
       "    </tr>\n",
       "  </tbody>\n",
       "</table>\n"
      ],
      "text/plain": [
       "<pandas.io.formats.style.Styler at 0x21ea1632b20>"
      ]
     },
     "metadata": {},
     "output_type": "display_data"
    }
   ],
   "source": [
    "##Modelimizi Compile Ediyoruz\n",
    "exp_name=setup(df,target='Salary')"
   ]
  },
  {
   "cell_type": "code",
   "execution_count": 27,
   "id": "72d43e32",
   "metadata": {},
   "outputs": [
    {
     "data": {
      "text/html": [],
      "text/plain": [
       "<IPython.core.display.HTML object>"
      ]
     },
     "metadata": {},
     "output_type": "display_data"
    },
    {
     "data": {
      "text/html": [
       "<style type=\"text/css\">\n",
       "#T_a3ecf th {\n",
       "  text-align: left;\n",
       "}\n",
       "#T_a3ecf_row0_col0, #T_a3ecf_row0_col1, #T_a3ecf_row0_col2, #T_a3ecf_row0_col3, #T_a3ecf_row1_col0, #T_a3ecf_row1_col1, #T_a3ecf_row1_col2, #T_a3ecf_row1_col3, #T_a3ecf_row1_col4, #T_a3ecf_row1_col5, #T_a3ecf_row1_col6, #T_a3ecf_row2_col0, #T_a3ecf_row2_col1, #T_a3ecf_row2_col2, #T_a3ecf_row2_col3, #T_a3ecf_row2_col4, #T_a3ecf_row2_col5, #T_a3ecf_row2_col6, #T_a3ecf_row3_col0, #T_a3ecf_row3_col4, #T_a3ecf_row3_col5, #T_a3ecf_row3_col6, #T_a3ecf_row4_col0, #T_a3ecf_row4_col1, #T_a3ecf_row4_col2, #T_a3ecf_row4_col3, #T_a3ecf_row4_col4, #T_a3ecf_row4_col5, #T_a3ecf_row4_col6, #T_a3ecf_row5_col0, #T_a3ecf_row5_col1, #T_a3ecf_row5_col2, #T_a3ecf_row5_col3, #T_a3ecf_row5_col4, #T_a3ecf_row5_col5, #T_a3ecf_row5_col6, #T_a3ecf_row6_col0, #T_a3ecf_row6_col1, #T_a3ecf_row6_col2, #T_a3ecf_row6_col3, #T_a3ecf_row6_col4, #T_a3ecf_row6_col5, #T_a3ecf_row6_col6, #T_a3ecf_row7_col0, #T_a3ecf_row7_col1, #T_a3ecf_row7_col2, #T_a3ecf_row7_col3, #T_a3ecf_row7_col4, #T_a3ecf_row7_col5, #T_a3ecf_row7_col6, #T_a3ecf_row8_col0, #T_a3ecf_row8_col1, #T_a3ecf_row8_col2, #T_a3ecf_row8_col3, #T_a3ecf_row8_col4, #T_a3ecf_row8_col5, #T_a3ecf_row8_col6, #T_a3ecf_row9_col0, #T_a3ecf_row9_col1, #T_a3ecf_row9_col2, #T_a3ecf_row9_col3, #T_a3ecf_row9_col4, #T_a3ecf_row9_col5, #T_a3ecf_row9_col6, #T_a3ecf_row10_col0, #T_a3ecf_row10_col1, #T_a3ecf_row10_col2, #T_a3ecf_row10_col3, #T_a3ecf_row10_col4, #T_a3ecf_row10_col5, #T_a3ecf_row10_col6, #T_a3ecf_row11_col0, #T_a3ecf_row11_col1, #T_a3ecf_row11_col2, #T_a3ecf_row11_col3, #T_a3ecf_row11_col4, #T_a3ecf_row11_col5, #T_a3ecf_row11_col6, #T_a3ecf_row12_col0, #T_a3ecf_row12_col1, #T_a3ecf_row12_col2, #T_a3ecf_row12_col3, #T_a3ecf_row12_col4, #T_a3ecf_row12_col5, #T_a3ecf_row12_col6, #T_a3ecf_row13_col0, #T_a3ecf_row13_col1, #T_a3ecf_row13_col2, #T_a3ecf_row13_col3, #T_a3ecf_row13_col4, #T_a3ecf_row13_col5, #T_a3ecf_row13_col6, #T_a3ecf_row14_col0, #T_a3ecf_row14_col1, #T_a3ecf_row14_col2, #T_a3ecf_row14_col3, #T_a3ecf_row14_col4, #T_a3ecf_row14_col5, #T_a3ecf_row14_col6, #T_a3ecf_row15_col0, #T_a3ecf_row15_col1, #T_a3ecf_row15_col2, #T_a3ecf_row15_col3, #T_a3ecf_row15_col4, #T_a3ecf_row15_col5, #T_a3ecf_row15_col6, #T_a3ecf_row16_col0, #T_a3ecf_row16_col1, #T_a3ecf_row16_col2, #T_a3ecf_row16_col3, #T_a3ecf_row16_col4, #T_a3ecf_row16_col5, #T_a3ecf_row16_col6, #T_a3ecf_row17_col0, #T_a3ecf_row17_col1, #T_a3ecf_row17_col2, #T_a3ecf_row17_col3, #T_a3ecf_row17_col4, #T_a3ecf_row17_col5, #T_a3ecf_row17_col6, #T_a3ecf_row18_col0, #T_a3ecf_row18_col1, #T_a3ecf_row18_col2, #T_a3ecf_row18_col3, #T_a3ecf_row18_col4, #T_a3ecf_row18_col5, #T_a3ecf_row18_col6 {\n",
       "  text-align: left;\n",
       "}\n",
       "#T_a3ecf_row0_col4, #T_a3ecf_row0_col5, #T_a3ecf_row0_col6, #T_a3ecf_row3_col1, #T_a3ecf_row3_col2, #T_a3ecf_row3_col3 {\n",
       "  text-align: left;\n",
       "  background-color: yellow;\n",
       "}\n",
       "#T_a3ecf_row0_col7, #T_a3ecf_row1_col7, #T_a3ecf_row3_col7, #T_a3ecf_row4_col7, #T_a3ecf_row5_col7, #T_a3ecf_row6_col7, #T_a3ecf_row7_col7, #T_a3ecf_row8_col7, #T_a3ecf_row9_col7, #T_a3ecf_row10_col7, #T_a3ecf_row11_col7, #T_a3ecf_row12_col7, #T_a3ecf_row13_col7, #T_a3ecf_row14_col7, #T_a3ecf_row15_col7, #T_a3ecf_row16_col7, #T_a3ecf_row17_col7, #T_a3ecf_row18_col7 {\n",
       "  text-align: left;\n",
       "  background-color: lightgrey;\n",
       "}\n",
       "#T_a3ecf_row2_col7 {\n",
       "  text-align: left;\n",
       "  background-color: yellow;\n",
       "  background-color: lightgrey;\n",
       "}\n",
       "</style>\n",
       "<table id=\"T_a3ecf\">\n",
       "  <thead>\n",
       "    <tr>\n",
       "      <th class=\"blank level0\" >&nbsp;</th>\n",
       "      <th id=\"T_a3ecf_level0_col0\" class=\"col_heading level0 col0\" >Model</th>\n",
       "      <th id=\"T_a3ecf_level0_col1\" class=\"col_heading level0 col1\" >MAE</th>\n",
       "      <th id=\"T_a3ecf_level0_col2\" class=\"col_heading level0 col2\" >MSE</th>\n",
       "      <th id=\"T_a3ecf_level0_col3\" class=\"col_heading level0 col3\" >RMSE</th>\n",
       "      <th id=\"T_a3ecf_level0_col4\" class=\"col_heading level0 col4\" >R2</th>\n",
       "      <th id=\"T_a3ecf_level0_col5\" class=\"col_heading level0 col5\" >RMSLE</th>\n",
       "      <th id=\"T_a3ecf_level0_col6\" class=\"col_heading level0 col6\" >MAPE</th>\n",
       "      <th id=\"T_a3ecf_level0_col7\" class=\"col_heading level0 col7\" >TT (Sec)</th>\n",
       "    </tr>\n",
       "  </thead>\n",
       "  <tbody>\n",
       "    <tr>\n",
       "      <th id=\"T_a3ecf_level0_row0\" class=\"row_heading level0 row0\" >rf</th>\n",
       "      <td id=\"T_a3ecf_row0_col0\" class=\"data row0 col0\" >Random Forest Regressor</td>\n",
       "      <td id=\"T_a3ecf_row0_col1\" class=\"data row0 col1\" >5023.6170</td>\n",
       "      <td id=\"T_a3ecf_row0_col2\" class=\"data row0 col2\" >36267944.3971</td>\n",
       "      <td id=\"T_a3ecf_row0_col3\" class=\"data row0 col3\" >5531.8657</td>\n",
       "      <td id=\"T_a3ecf_row0_col4\" class=\"data row0 col4\" >0.7607</td>\n",
       "      <td id=\"T_a3ecf_row0_col5\" class=\"data row0 col5\" >0.0767</td>\n",
       "      <td id=\"T_a3ecf_row0_col6\" class=\"data row0 col6\" >0.0690</td>\n",
       "      <td id=\"T_a3ecf_row0_col7\" class=\"data row0 col7\" >0.4610</td>\n",
       "    </tr>\n",
       "    <tr>\n",
       "      <th id=\"T_a3ecf_level0_row1\" class=\"row_heading level0 row1\" >lr</th>\n",
       "      <td id=\"T_a3ecf_row1_col0\" class=\"data row1 col0\" >Linear Regression</td>\n",
       "      <td id=\"T_a3ecf_row1_col1\" class=\"data row1 col1\" >4804.5659</td>\n",
       "      <td id=\"T_a3ecf_row1_col2\" class=\"data row1 col2\" >33456193.6000</td>\n",
       "      <td id=\"T_a3ecf_row1_col3\" class=\"data row1 col3\" >5157.5706</td>\n",
       "      <td id=\"T_a3ecf_row1_col4\" class=\"data row1 col4\" >0.7535</td>\n",
       "      <td id=\"T_a3ecf_row1_col5\" class=\"data row1 col5\" >0.0785</td>\n",
       "      <td id=\"T_a3ecf_row1_col6\" class=\"data row1 col6\" >0.0716</td>\n",
       "      <td id=\"T_a3ecf_row1_col7\" class=\"data row1 col7\" >0.6810</td>\n",
       "    </tr>\n",
       "    <tr>\n",
       "      <th id=\"T_a3ecf_level0_row2\" class=\"row_heading level0 row2\" >lasso</th>\n",
       "      <td id=\"T_a3ecf_row2_col0\" class=\"data row2 col0\" >Lasso Regression</td>\n",
       "      <td id=\"T_a3ecf_row2_col1\" class=\"data row2 col1\" >4804.6310</td>\n",
       "      <td id=\"T_a3ecf_row2_col2\" class=\"data row2 col2\" >33456208.6250</td>\n",
       "      <td id=\"T_a3ecf_row2_col3\" class=\"data row2 col3\" >5157.5873</td>\n",
       "      <td id=\"T_a3ecf_row2_col4\" class=\"data row2 col4\" >0.7535</td>\n",
       "      <td id=\"T_a3ecf_row2_col5\" class=\"data row2 col5\" >0.0785</td>\n",
       "      <td id=\"T_a3ecf_row2_col6\" class=\"data row2 col6\" >0.0716</td>\n",
       "      <td id=\"T_a3ecf_row2_col7\" class=\"data row2 col7\" >0.2970</td>\n",
       "    </tr>\n",
       "    <tr>\n",
       "      <th id=\"T_a3ecf_level0_row3\" class=\"row_heading level0 row3\" >lar</th>\n",
       "      <td id=\"T_a3ecf_row3_col0\" class=\"data row3 col0\" >Least Angle Regression</td>\n",
       "      <td id=\"T_a3ecf_row3_col1\" class=\"data row3 col1\" >4804.5626</td>\n",
       "      <td id=\"T_a3ecf_row3_col2\" class=\"data row3 col2\" >33456160.6000</td>\n",
       "      <td id=\"T_a3ecf_row3_col3\" class=\"data row3 col3\" >5157.5679</td>\n",
       "      <td id=\"T_a3ecf_row3_col4\" class=\"data row3 col4\" >0.7535</td>\n",
       "      <td id=\"T_a3ecf_row3_col5\" class=\"data row3 col5\" >0.0785</td>\n",
       "      <td id=\"T_a3ecf_row3_col6\" class=\"data row3 col6\" >0.0716</td>\n",
       "      <td id=\"T_a3ecf_row3_col7\" class=\"data row3 col7\" >0.3310</td>\n",
       "    </tr>\n",
       "    <tr>\n",
       "      <th id=\"T_a3ecf_level0_row4\" class=\"row_heading level0 row4\" >llar</th>\n",
       "      <td id=\"T_a3ecf_row4_col0\" class=\"data row4 col0\" >Lasso Least Angle Regression</td>\n",
       "      <td id=\"T_a3ecf_row4_col1\" class=\"data row4 col1\" >4805.3805</td>\n",
       "      <td id=\"T_a3ecf_row4_col2\" class=\"data row4 col2\" >33456829.1750</td>\n",
       "      <td id=\"T_a3ecf_row4_col3\" class=\"data row4 col3\" >5157.8141</td>\n",
       "      <td id=\"T_a3ecf_row4_col4\" class=\"data row4 col4\" >0.7535</td>\n",
       "      <td id=\"T_a3ecf_row4_col5\" class=\"data row4 col5\" >0.0785</td>\n",
       "      <td id=\"T_a3ecf_row4_col6\" class=\"data row4 col6\" >0.0716</td>\n",
       "      <td id=\"T_a3ecf_row4_col7\" class=\"data row4 col7\" >0.3280</td>\n",
       "    </tr>\n",
       "    <tr>\n",
       "      <th id=\"T_a3ecf_level0_row5\" class=\"row_heading level0 row5\" >omp</th>\n",
       "      <td id=\"T_a3ecf_row5_col0\" class=\"data row5 col0\" >Orthogonal Matching Pursuit</td>\n",
       "      <td id=\"T_a3ecf_row5_col1\" class=\"data row5 col1\" >4804.5632</td>\n",
       "      <td id=\"T_a3ecf_row5_col2\" class=\"data row5 col2\" >33456164.8000</td>\n",
       "      <td id=\"T_a3ecf_row5_col3\" class=\"data row5 col3\" >5157.5682</td>\n",
       "      <td id=\"T_a3ecf_row5_col4\" class=\"data row5 col4\" >0.7535</td>\n",
       "      <td id=\"T_a3ecf_row5_col5\" class=\"data row5 col5\" >0.0785</td>\n",
       "      <td id=\"T_a3ecf_row5_col6\" class=\"data row5 col6\" >0.0716</td>\n",
       "      <td id=\"T_a3ecf_row5_col7\" class=\"data row5 col7\" >0.3300</td>\n",
       "    </tr>\n",
       "    <tr>\n",
       "      <th id=\"T_a3ecf_level0_row6\" class=\"row_heading level0 row6\" >br</th>\n",
       "      <td id=\"T_a3ecf_row6_col0\" class=\"data row6 col0\" >Bayesian Ridge</td>\n",
       "      <td id=\"T_a3ecf_row6_col1\" class=\"data row6 col1\" >4814.5076</td>\n",
       "      <td id=\"T_a3ecf_row6_col2\" class=\"data row6 col2\" >33458104.6136</td>\n",
       "      <td id=\"T_a3ecf_row6_col3\" class=\"data row6 col3\" >5160.5982</td>\n",
       "      <td id=\"T_a3ecf_row6_col4\" class=\"data row6 col4\" >0.7534</td>\n",
       "      <td id=\"T_a3ecf_row6_col5\" class=\"data row6 col5\" >0.0787</td>\n",
       "      <td id=\"T_a3ecf_row6_col6\" class=\"data row6 col6\" >0.0719</td>\n",
       "      <td id=\"T_a3ecf_row6_col7\" class=\"data row6 col7\" >0.3270</td>\n",
       "    </tr>\n",
       "    <tr>\n",
       "      <th id=\"T_a3ecf_level0_row7\" class=\"row_heading level0 row7\" >ridge</th>\n",
       "      <td id=\"T_a3ecf_row7_col0\" class=\"data row7 col0\" >Ridge Regression</td>\n",
       "      <td id=\"T_a3ecf_row7_col1\" class=\"data row7 col1\" >4834.5066</td>\n",
       "      <td id=\"T_a3ecf_row7_col2\" class=\"data row7 col2\" >33483862.6500</td>\n",
       "      <td id=\"T_a3ecf_row7_col3\" class=\"data row7 col3\" >5166.1939</td>\n",
       "      <td id=\"T_a3ecf_row7_col4\" class=\"data row7 col4\" >0.7529</td>\n",
       "      <td id=\"T_a3ecf_row7_col5\" class=\"data row7 col5\" >0.0791</td>\n",
       "      <td id=\"T_a3ecf_row7_col6\" class=\"data row7 col6\" >0.0724</td>\n",
       "      <td id=\"T_a3ecf_row7_col7\" class=\"data row7 col7\" >0.3360</td>\n",
       "    </tr>\n",
       "    <tr>\n",
       "      <th id=\"T_a3ecf_level0_row8\" class=\"row_heading level0 row8\" >huber</th>\n",
       "      <td id=\"T_a3ecf_row8_col0\" class=\"data row8 col0\" >Huber Regressor</td>\n",
       "      <td id=\"T_a3ecf_row8_col1\" class=\"data row8 col1\" >4843.6497</td>\n",
       "      <td id=\"T_a3ecf_row8_col2\" class=\"data row8 col2\" >33991708.8072</td>\n",
       "      <td id=\"T_a3ecf_row8_col3\" class=\"data row8 col3\" >5220.9481</td>\n",
       "      <td id=\"T_a3ecf_row8_col4\" class=\"data row8 col4\" >0.7356</td>\n",
       "      <td id=\"T_a3ecf_row8_col5\" class=\"data row8 col5\" >0.0791</td>\n",
       "      <td id=\"T_a3ecf_row8_col6\" class=\"data row8 col6\" >0.0710</td>\n",
       "      <td id=\"T_a3ecf_row8_col7\" class=\"data row8 col7\" >0.3330</td>\n",
       "    </tr>\n",
       "    <tr>\n",
       "      <th id=\"T_a3ecf_level0_row9\" class=\"row_heading level0 row9\" >en</th>\n",
       "      <td id=\"T_a3ecf_row9_col0\" class=\"data row9 col0\" >Elastic Net</td>\n",
       "      <td id=\"T_a3ecf_row9_col1\" class=\"data row9 col1\" >5076.6913</td>\n",
       "      <td id=\"T_a3ecf_row9_col2\" class=\"data row9 col2\" >36383618.3500</td>\n",
       "      <td id=\"T_a3ecf_row9_col3\" class=\"data row9 col3\" >5426.3881</td>\n",
       "      <td id=\"T_a3ecf_row9_col4\" class=\"data row9 col4\" >0.7320</td>\n",
       "      <td id=\"T_a3ecf_row9_col5\" class=\"data row9 col5\" >0.0861</td>\n",
       "      <td id=\"T_a3ecf_row9_col6\" class=\"data row9 col6\" >0.0792</td>\n",
       "      <td id=\"T_a3ecf_row9_col7\" class=\"data row9 col7\" >0.3320</td>\n",
       "    </tr>\n",
       "    <tr>\n",
       "      <th id=\"T_a3ecf_level0_row10\" class=\"row_heading level0 row10\" >et</th>\n",
       "      <td id=\"T_a3ecf_row10_col0\" class=\"data row10 col0\" >Extra Trees Regressor</td>\n",
       "      <td id=\"T_a3ecf_row10_col1\" class=\"data row10 col1\" >5681.8077</td>\n",
       "      <td id=\"T_a3ecf_row10_col2\" class=\"data row10 col2\" >44882534.0335</td>\n",
       "      <td id=\"T_a3ecf_row10_col3\" class=\"data row10 col3\" >6171.8827</td>\n",
       "      <td id=\"T_a3ecf_row10_col4\" class=\"data row10 col4\" >0.7174</td>\n",
       "      <td id=\"T_a3ecf_row10_col5\" class=\"data row10 col5\" >0.0886</td>\n",
       "      <td id=\"T_a3ecf_row10_col6\" class=\"data row10 col6\" >0.0797</td>\n",
       "      <td id=\"T_a3ecf_row10_col7\" class=\"data row10 col7\" >0.4570</td>\n",
       "    </tr>\n",
       "    <tr>\n",
       "      <th id=\"T_a3ecf_level0_row11\" class=\"row_heading level0 row11\" >ada</th>\n",
       "      <td id=\"T_a3ecf_row11_col0\" class=\"data row11 col0\" >AdaBoost Regressor</td>\n",
       "      <td id=\"T_a3ecf_row11_col1\" class=\"data row11 col1\" >5908.3752</td>\n",
       "      <td id=\"T_a3ecf_row11_col2\" class=\"data row11 col2\" >47337732.4836</td>\n",
       "      <td id=\"T_a3ecf_row11_col3\" class=\"data row11 col3\" >6342.3658</td>\n",
       "      <td id=\"T_a3ecf_row11_col4\" class=\"data row11 col4\" >0.6658</td>\n",
       "      <td id=\"T_a3ecf_row11_col5\" class=\"data row11 col5\" >0.0874</td>\n",
       "      <td id=\"T_a3ecf_row11_col6\" class=\"data row11 col6\" >0.0811</td>\n",
       "      <td id=\"T_a3ecf_row11_col7\" class=\"data row11 col7\" >0.3930</td>\n",
       "    </tr>\n",
       "    <tr>\n",
       "      <th id=\"T_a3ecf_level0_row12\" class=\"row_heading level0 row12\" >gbr</th>\n",
       "      <td id=\"T_a3ecf_row12_col0\" class=\"data row12 col0\" >Gradient Boosting Regressor</td>\n",
       "      <td id=\"T_a3ecf_row12_col1\" class=\"data row12 col1\" >6120.6281</td>\n",
       "      <td id=\"T_a3ecf_row12_col2\" class=\"data row12 col2\" >53746701.6997</td>\n",
       "      <td id=\"T_a3ecf_row12_col3\" class=\"data row12 col3\" >6726.8618</td>\n",
       "      <td id=\"T_a3ecf_row12_col4\" class=\"data row12 col4\" >0.6247</td>\n",
       "      <td id=\"T_a3ecf_row12_col5\" class=\"data row12 col5\" >0.0929</td>\n",
       "      <td id=\"T_a3ecf_row12_col6\" class=\"data row12 col6\" >0.0842</td>\n",
       "      <td id=\"T_a3ecf_row12_col7\" class=\"data row12 col7\" >0.3860</td>\n",
       "    </tr>\n",
       "    <tr>\n",
       "      <th id=\"T_a3ecf_level0_row13\" class=\"row_heading level0 row13\" >dt</th>\n",
       "      <td id=\"T_a3ecf_row13_col0\" class=\"data row13 col0\" >Decision Tree Regressor</td>\n",
       "      <td id=\"T_a3ecf_row13_col1\" class=\"data row13 col1\" >6169.0167</td>\n",
       "      <td id=\"T_a3ecf_row13_col2\" class=\"data row13 col2\" >54606008.6500</td>\n",
       "      <td id=\"T_a3ecf_row13_col3\" class=\"data row13 col3\" >6785.4723</td>\n",
       "      <td id=\"T_a3ecf_row13_col4\" class=\"data row13 col4\" >0.6188</td>\n",
       "      <td id=\"T_a3ecf_row13_col5\" class=\"data row13 col5\" >0.0937</td>\n",
       "      <td id=\"T_a3ecf_row13_col6\" class=\"data row13 col6\" >0.0849</td>\n",
       "      <td id=\"T_a3ecf_row13_col7\" class=\"data row13 col7\" >0.3300</td>\n",
       "    </tr>\n",
       "    <tr>\n",
       "      <th id=\"T_a3ecf_level0_row14\" class=\"row_heading level0 row14\" >knn</th>\n",
       "      <td id=\"T_a3ecf_row14_col0\" class=\"data row14 col0\" >K Neighbors Regressor</td>\n",
       "      <td id=\"T_a3ecf_row14_col1\" class=\"data row14 col1\" >6473.7933</td>\n",
       "      <td id=\"T_a3ecf_row14_col2\" class=\"data row14 col2\" >60957959.2500</td>\n",
       "      <td id=\"T_a3ecf_row14_col3\" class=\"data row14 col3\" >7195.7568</td>\n",
       "      <td id=\"T_a3ecf_row14_col4\" class=\"data row14 col4\" >0.6114</td>\n",
       "      <td id=\"T_a3ecf_row14_col5\" class=\"data row14 col5\" >0.1090</td>\n",
       "      <td id=\"T_a3ecf_row14_col6\" class=\"data row14 col6\" >0.0984</td>\n",
       "      <td id=\"T_a3ecf_row14_col7\" class=\"data row14 col7\" >0.3310</td>\n",
       "    </tr>\n",
       "    <tr>\n",
       "      <th id=\"T_a3ecf_level0_row15\" class=\"row_heading level0 row15\" >xgboost</th>\n",
       "      <td id=\"T_a3ecf_row15_col0\" class=\"data row15 col0\" >Extreme Gradient Boosting</td>\n",
       "      <td id=\"T_a3ecf_row15_col1\" class=\"data row15 col1\" >6446.3464</td>\n",
       "      <td id=\"T_a3ecf_row15_col2\" class=\"data row15 col2\" >60700706.2000</td>\n",
       "      <td id=\"T_a3ecf_row15_col3\" class=\"data row15 col3\" >7120.2971</td>\n",
       "      <td id=\"T_a3ecf_row15_col4\" class=\"data row15 col4\" >0.6090</td>\n",
       "      <td id=\"T_a3ecf_row15_col5\" class=\"data row15 col5\" >0.0973</td>\n",
       "      <td id=\"T_a3ecf_row15_col6\" class=\"data row15 col6\" >0.0890</td>\n",
       "      <td id=\"T_a3ecf_row15_col7\" class=\"data row15 col7\" >0.4790</td>\n",
       "    </tr>\n",
       "    <tr>\n",
       "      <th id=\"T_a3ecf_level0_row16\" class=\"row_heading level0 row16\" >par</th>\n",
       "      <td id=\"T_a3ecf_row16_col0\" class=\"data row16 col0\" >Passive Aggressive Regressor</td>\n",
       "      <td id=\"T_a3ecf_row16_col1\" class=\"data row16 col1\" >8351.9057</td>\n",
       "      <td id=\"T_a3ecf_row16_col2\" class=\"data row16 col2\" >100948019.2320</td>\n",
       "      <td id=\"T_a3ecf_row16_col3\" class=\"data row16 col3\" >8975.2670</td>\n",
       "      <td id=\"T_a3ecf_row16_col4\" class=\"data row16 col4\" >0.1409</td>\n",
       "      <td id=\"T_a3ecf_row16_col5\" class=\"data row16 col5\" >0.1612</td>\n",
       "      <td id=\"T_a3ecf_row16_col6\" class=\"data row16 col6\" >0.1286</td>\n",
       "      <td id=\"T_a3ecf_row16_col7\" class=\"data row16 col7\" >0.3350</td>\n",
       "    </tr>\n",
       "    <tr>\n",
       "      <th id=\"T_a3ecf_level0_row17\" class=\"row_heading level0 row17\" >lightgbm</th>\n",
       "      <td id=\"T_a3ecf_row17_col0\" class=\"data row17 col0\" >Light Gradient Boosting Machine</td>\n",
       "      <td id=\"T_a3ecf_row17_col1\" class=\"data row17 col1\" >24673.6828</td>\n",
       "      <td id=\"T_a3ecf_row17_col2\" class=\"data row17 col2\" >756240172.1394</td>\n",
       "      <td id=\"T_a3ecf_row17_col3\" class=\"data row17 col3\" >26643.9094</td>\n",
       "      <td id=\"T_a3ecf_row17_col4\" class=\"data row17 col4\" >-3.8525</td>\n",
       "      <td id=\"T_a3ecf_row17_col5\" class=\"data row17 col5\" >0.3598</td>\n",
       "      <td id=\"T_a3ecf_row17_col6\" class=\"data row17 col6\" >0.3714</td>\n",
       "      <td id=\"T_a3ecf_row17_col7\" class=\"data row17 col7\" >0.6060</td>\n",
       "    </tr>\n",
       "    <tr>\n",
       "      <th id=\"T_a3ecf_level0_row18\" class=\"row_heading level0 row18\" >dummy</th>\n",
       "      <td id=\"T_a3ecf_row18_col0\" class=\"data row18 col0\" >Dummy Regressor</td>\n",
       "      <td id=\"T_a3ecf_row18_col1\" class=\"data row18 col1\" >24673.6828</td>\n",
       "      <td id=\"T_a3ecf_row18_col2\" class=\"data row18 col2\" >756240182.4000</td>\n",
       "      <td id=\"T_a3ecf_row18_col3\" class=\"data row18 col3\" >26643.9092</td>\n",
       "      <td id=\"T_a3ecf_row18_col4\" class=\"data row18 col4\" >-3.8525</td>\n",
       "      <td id=\"T_a3ecf_row18_col5\" class=\"data row18 col5\" >0.3598</td>\n",
       "      <td id=\"T_a3ecf_row18_col6\" class=\"data row18 col6\" >0.3714</td>\n",
       "      <td id=\"T_a3ecf_row18_col7\" class=\"data row18 col7\" >0.3670</td>\n",
       "    </tr>\n",
       "  </tbody>\n",
       "</table>\n"
      ],
      "text/plain": [
       "<pandas.io.formats.style.Styler at 0x21e9ba49fd0>"
      ]
     },
     "metadata": {},
     "output_type": "display_data"
    },
    {
     "data": {
      "application/vnd.jupyter.widget-view+json": {
       "model_id": "",
       "version_major": 2,
       "version_minor": 0
      },
      "text/plain": [
       "Processing:   0%|          | 0/81 [00:00<?, ?it/s]"
      ]
     },
     "metadata": {},
     "output_type": "display_data"
    }
   ],
   "source": [
    "##Eniyi Model Karşılaştırması\n",
    "best_model=compare_models()"
   ]
  },
  {
   "cell_type": "raw",
   "id": "f29f5af5",
   "metadata": {},
   "source": [
    "Summary\n",
    "Salary prediction is a popular problem among the Data Science community for complete beginners. Through this regression analysis, we found a perfect linear relationship between the salary and the job experience of the people. It means more job experience results in a higher salary."
   ]
  }
 ],
 "metadata": {
  "kernelspec": {
   "display_name": "Python 3 (ipykernel)",
   "language": "python",
   "name": "python3"
  },
  "language_info": {
   "codemirror_mode": {
    "name": "ipython",
    "version": 3
   },
   "file_extension": ".py",
   "mimetype": "text/x-python",
   "name": "python",
   "nbconvert_exporter": "python",
   "pygments_lexer": "ipython3",
   "version": "3.10.9"
  }
 },
 "nbformat": 4,
 "nbformat_minor": 5
}
